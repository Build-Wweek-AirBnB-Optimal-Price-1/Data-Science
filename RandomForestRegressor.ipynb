{
 "cells": [
  {
   "cell_type": "code",
   "execution_count": 16,
   "metadata": {},
   "outputs": [],
   "source": [
    "import os\n",
    "import xgboost\n",
    "import pandas as pd \n",
    "import sklearn\n",
    "from sklearn.ensemble import RandomForestRegressor \n",
    "from sklearn.model_selection import train_test_split\n",
    "from sklearn.preprocessing import StandardScaler\n",
    "from sklearn.pipeline import make_pipeline\n",
    "import category_encoders as ce\n",
    "from joblib import dump"
   ]
  },
  {
   "cell_type": "code",
   "execution_count": 8,
   "metadata": {},
   "outputs": [
    {
     "data": {
      "text/plain": [
       "'/Users/yonipineda/Data-Science'"
      ]
     },
     "execution_count": 8,
     "metadata": {},
     "output_type": "execute_result"
    }
   ],
   "source": [
    "pwd"
   ]
  },
  {
   "cell_type": "code",
   "execution_count": 12,
   "metadata": {},
   "outputs": [],
   "source": [
    "df = pd.read_csv(\"/Users/yonipineda/Data-Science/airbnb_api/transformed_df.csv\")"
   ]
  },
  {
   "cell_type": "code",
   "execution_count": 11,
   "metadata": {},
   "outputs": [
    {
     "data": {
      "text/html": [
       "<div>\n",
       "<style scoped>\n",
       "    .dataframe tbody tr th:only-of-type {\n",
       "        vertical-align: middle;\n",
       "    }\n",
       "\n",
       "    .dataframe tbody tr th {\n",
       "        vertical-align: top;\n",
       "    }\n",
       "\n",
       "    .dataframe thead th {\n",
       "        text-align: right;\n",
       "    }\n",
       "</style>\n",
       "<table border=\"1\" class=\"dataframe\">\n",
       "  <thead>\n",
       "    <tr style=\"text-align: right;\">\n",
       "      <th></th>\n",
       "      <th>host_is_superhost</th>\n",
       "      <th>host_listings_count</th>\n",
       "      <th>host_identity_verified</th>\n",
       "      <th>accommodates</th>\n",
       "      <th>bathrooms</th>\n",
       "      <th>price</th>\n",
       "      <th>security_deposit</th>\n",
       "      <th>cleaning_fee</th>\n",
       "      <th>extra_people</th>\n",
       "      <th>minimum_nights</th>\n",
       "      <th>...</th>\n",
       "      <th>time_since_first_review_0-6 months</th>\n",
       "      <th>time_since_first_review_1-2 years</th>\n",
       "      <th>time_since_first_review_2-3 years</th>\n",
       "      <th>time_since_first_review_4+ years</th>\n",
       "      <th>time_since_first_review_6-12 months</th>\n",
       "      <th>time_since_last_review_0-2 weeks</th>\n",
       "      <th>time_since_last_review_1+ year</th>\n",
       "      <th>time_since_last_review_2-6 months</th>\n",
       "      <th>time_since_last_review_2-8 weeks</th>\n",
       "      <th>time_since_last_review_6-12 months</th>\n",
       "    </tr>\n",
       "  </thead>\n",
       "  <tbody>\n",
       "    <tr>\n",
       "      <td>0</td>\n",
       "      <td>0.0</td>\n",
       "      <td>-4.605170</td>\n",
       "      <td>1.0</td>\n",
       "      <td>0.000000</td>\n",
       "      <td>0.0</td>\n",
       "      <td>3.044522</td>\n",
       "      <td>-4.605170</td>\n",
       "      <td>-4.605170</td>\n",
       "      <td>2.302585</td>\n",
       "      <td>4.094345</td>\n",
       "      <td>...</td>\n",
       "      <td>0</td>\n",
       "      <td>0</td>\n",
       "      <td>0</td>\n",
       "      <td>1</td>\n",
       "      <td>0</td>\n",
       "      <td>0</td>\n",
       "      <td>1</td>\n",
       "      <td>0</td>\n",
       "      <td>0</td>\n",
       "      <td>0</td>\n",
       "    </tr>\n",
       "    <tr>\n",
       "      <td>1</td>\n",
       "      <td>0.0</td>\n",
       "      <td>0.000000</td>\n",
       "      <td>1.0</td>\n",
       "      <td>1.386294</td>\n",
       "      <td>0.0</td>\n",
       "      <td>4.499810</td>\n",
       "      <td>5.703782</td>\n",
       "      <td>4.605170</td>\n",
       "      <td>2.995732</td>\n",
       "      <td>4.127134</td>\n",
       "      <td>...</td>\n",
       "      <td>0</td>\n",
       "      <td>0</td>\n",
       "      <td>0</td>\n",
       "      <td>1</td>\n",
       "      <td>0</td>\n",
       "      <td>0</td>\n",
       "      <td>0</td>\n",
       "      <td>1</td>\n",
       "      <td>0</td>\n",
       "      <td>0</td>\n",
       "    </tr>\n",
       "    <tr>\n",
       "      <td>2</td>\n",
       "      <td>0.0</td>\n",
       "      <td>0.000000</td>\n",
       "      <td>0.0</td>\n",
       "      <td>0.000000</td>\n",
       "      <td>0.0</td>\n",
       "      <td>3.332205</td>\n",
       "      <td>5.521461</td>\n",
       "      <td>3.401197</td>\n",
       "      <td>2.890372</td>\n",
       "      <td>1.945910</td>\n",
       "      <td>...</td>\n",
       "      <td>0</td>\n",
       "      <td>0</td>\n",
       "      <td>0</td>\n",
       "      <td>1</td>\n",
       "      <td>0</td>\n",
       "      <td>0</td>\n",
       "      <td>0</td>\n",
       "      <td>1</td>\n",
       "      <td>0</td>\n",
       "      <td>0</td>\n",
       "    </tr>\n",
       "    <tr>\n",
       "      <td>3</td>\n",
       "      <td>0.0</td>\n",
       "      <td>0.000000</td>\n",
       "      <td>1.0</td>\n",
       "      <td>0.693147</td>\n",
       "      <td>0.0</td>\n",
       "      <td>4.828314</td>\n",
       "      <td>-4.605170</td>\n",
       "      <td>3.663562</td>\n",
       "      <td>-4.605170</td>\n",
       "      <td>1.098612</td>\n",
       "      <td>...</td>\n",
       "      <td>0</td>\n",
       "      <td>0</td>\n",
       "      <td>0</td>\n",
       "      <td>1</td>\n",
       "      <td>0</td>\n",
       "      <td>0</td>\n",
       "      <td>0</td>\n",
       "      <td>0</td>\n",
       "      <td>1</td>\n",
       "      <td>0</td>\n",
       "    </tr>\n",
       "    <tr>\n",
       "      <td>4</td>\n",
       "      <td>1.0</td>\n",
       "      <td>0.693147</td>\n",
       "      <td>1.0</td>\n",
       "      <td>0.693147</td>\n",
       "      <td>0.0</td>\n",
       "      <td>3.496508</td>\n",
       "      <td>-4.605170</td>\n",
       "      <td>-4.605170</td>\n",
       "      <td>3.218876</td>\n",
       "      <td>1.098612</td>\n",
       "      <td>...</td>\n",
       "      <td>0</td>\n",
       "      <td>0</td>\n",
       "      <td>0</td>\n",
       "      <td>1</td>\n",
       "      <td>0</td>\n",
       "      <td>1</td>\n",
       "      <td>0</td>\n",
       "      <td>0</td>\n",
       "      <td>0</td>\n",
       "      <td>0</td>\n",
       "    </tr>\n",
       "  </tbody>\n",
       "</table>\n",
       "<p>5 rows × 226 columns</p>\n",
       "</div>"
      ],
      "text/plain": [
       "   host_is_superhost  host_listings_count  host_identity_verified  \\\n",
       "0                0.0            -4.605170                     1.0   \n",
       "1                0.0             0.000000                     1.0   \n",
       "2                0.0             0.000000                     0.0   \n",
       "3                0.0             0.000000                     1.0   \n",
       "4                1.0             0.693147                     1.0   \n",
       "\n",
       "   accommodates  bathrooms     price  security_deposit  cleaning_fee  \\\n",
       "0      0.000000        0.0  3.044522         -4.605170     -4.605170   \n",
       "1      1.386294        0.0  4.499810          5.703782      4.605170   \n",
       "2      0.000000        0.0  3.332205          5.521461      3.401197   \n",
       "3      0.693147        0.0  4.828314         -4.605170      3.663562   \n",
       "4      0.693147        0.0  3.496508         -4.605170     -4.605170   \n",
       "\n",
       "   extra_people  minimum_nights  ...  time_since_first_review_0-6 months  \\\n",
       "0      2.302585        4.094345  ...                                   0   \n",
       "1      2.995732        4.127134  ...                                   0   \n",
       "2      2.890372        1.945910  ...                                   0   \n",
       "3     -4.605170        1.098612  ...                                   0   \n",
       "4      3.218876        1.098612  ...                                   0   \n",
       "\n",
       "   time_since_first_review_1-2 years  time_since_first_review_2-3 years  \\\n",
       "0                                  0                                  0   \n",
       "1                                  0                                  0   \n",
       "2                                  0                                  0   \n",
       "3                                  0                                  0   \n",
       "4                                  0                                  0   \n",
       "\n",
       "   time_since_first_review_4+ years  time_since_first_review_6-12 months  \\\n",
       "0                                 1                                    0   \n",
       "1                                 1                                    0   \n",
       "2                                 1                                    0   \n",
       "3                                 1                                    0   \n",
       "4                                 1                                    0   \n",
       "\n",
       "   time_since_last_review_0-2 weeks  time_since_last_review_1+ year  \\\n",
       "0                                 0                               1   \n",
       "1                                 0                               0   \n",
       "2                                 0                               0   \n",
       "3                                 0                               0   \n",
       "4                                 1                               0   \n",
       "\n",
       "   time_since_last_review_2-6 months  time_since_last_review_2-8 weeks  \\\n",
       "0                                  0                                 0   \n",
       "1                                  1                                 0   \n",
       "2                                  1                                 0   \n",
       "3                                  0                                 1   \n",
       "4                                  0                                 0   \n",
       "\n",
       "   time_since_last_review_6-12 months  \n",
       "0                                   0  \n",
       "1                                   0  \n",
       "2                                   0  \n",
       "3                                   0  \n",
       "4                                   0  \n",
       "\n",
       "[5 rows x 226 columns]"
      ]
     },
     "execution_count": 11,
     "metadata": {},
     "output_type": "execute_result"
    }
   ],
   "source": [
    "df.head()"
   ]
  },
  {
   "cell_type": "code",
   "execution_count": 17,
   "metadata": {},
   "outputs": [
    {
     "data": {
      "text/plain": [
       "host_is_superhost                     0\n",
       "host_listings_count                   0\n",
       "host_identity_verified                0\n",
       "accommodates                          0\n",
       "bathrooms                             0\n",
       "                                     ..\n",
       "time_since_last_review_0-2 weeks      0\n",
       "time_since_last_review_1+ year        0\n",
       "time_since_last_review_2-6 months     0\n",
       "time_since_last_review_2-8 weeks      0\n",
       "time_since_last_review_6-12 months    0\n",
       "Length: 226, dtype: int64"
      ]
     },
     "execution_count": 17,
     "metadata": {},
     "output_type": "execute_result"
    }
   ],
   "source": [
    "df.isnull().sum()"
   ]
  },
  {
   "cell_type": "code",
   "execution_count": 18,
   "metadata": {},
   "outputs": [],
   "source": [
    "# split into features matrix and target vector\n",
    "X = df.drop('price', axis=1)\n",
    "y = df.price"
   ]
  },
  {
   "cell_type": "code",
   "execution_count": 19,
   "metadata": {},
   "outputs": [],
   "source": [
    "# train test split\n",
    "X_train, X_test, y_train, y_test = train_test_split(X, y, test_size=0.2,\n",
    "                                                    random_state=14)"
   ]
  },
  {
   "cell_type": "code",
   "execution_count": 20,
   "metadata": {},
   "outputs": [],
   "source": [
    "model = make_pipeline(\n",
    "    ce.OrdinalEncoder(),\n",
    "    RandomForestRegressor(n_estimators=100, random_state=42, n_jobs=-1)\n",
    ")"
   ]
  },
  {
   "cell_type": "code",
   "execution_count": 21,
   "metadata": {},
   "outputs": [],
   "source": [
    "model.fit(X_train, y_train)\n",
    "fin = model.predict(X_test)"
   ]
  },
  {
   "cell_type": "code",
   "execution_count": 27,
   "metadata": {},
   "outputs": [],
   "source": [
    "import pickle"
   ]
  },
  {
   "cell_type": "code",
   "execution_count": 28,
   "metadata": {},
   "outputs": [],
   "source": [
    "with open('regressor.pkl', 'wb') as f:\n",
    "    pickle.dump(fin, f)"
   ]
  },
  {
   "cell_type": "code",
   "execution_count": null,
   "metadata": {},
   "outputs": [],
   "source": []
  }
 ],
 "metadata": {
  "kernelspec": {
   "display_name": "Python 3",
   "language": "python",
   "name": "python3"
  },
  "language_info": {
   "codemirror_mode": {
    "name": "ipython",
    "version": 3
   },
   "file_extension": ".py",
   "mimetype": "text/x-python",
   "name": "python",
   "nbconvert_exporter": "python",
   "pygments_lexer": "ipython3",
   "version": "3.7.4"
  }
 },
 "nbformat": 4,
 "nbformat_minor": 2
}
